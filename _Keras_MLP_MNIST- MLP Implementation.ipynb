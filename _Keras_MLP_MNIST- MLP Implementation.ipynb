{
 "cells": [
  {
   "cell_type": "markdown",
   "metadata": {
    "id": "WWWn1oMdMP0d"
   },
   "source": [
    "MLP for Complex Problems: The MNIST dataset\n",
    "=========\n",
    "\n",
    "\n",
    "In this exercise we will first learn to use the simple perceptron network (input-output layers only) and a Multi-Layer Perceptron (MLP, with one or more hidden layers). To make the task more interesting than the XOR problem, we will be using a more complex training set. This will be the MNIST dataset, a well known neural network problem for the recognition of the 10 handwritten characters from 0 to 9 ([MNIST](http://yann.lecun.com/exdb/mnist/)).\n",
    "\n",
    "This exercise is based on the  Gulli & Pal (2017) 'Deep Learning with Keras' textbook, with some additional code to help us understand and test the programme.\n"
   ]
  },
  {
   "cell_type": "markdown",
   "metadata": {
    "id": "ezwPEU5UMP0o"
   },
   "source": [
    "**Importing the libraries and defining the main training parameters**\n",
    "\n",
    "The initial code is necessary to prepare the data and the simulation (hyper)parameters.\n",
    "We first import numpy. In our case we will use it to create and pre-process the array of the training data sets. We then import a few functions from Keras (we used some of these in our previous XOR exercise). The matplotlib library will be used for visualising some MNIST images and the plot of the training results.\n",
    "\n",
    "The code also defines the variables for some of the main parameters used throughout this program. \n",
    "The random seed definition is also important to be able to repeat the same parameter configuration."
   ]
  },
  {
   "cell_type": "code",
   "execution_count": 1,
   "metadata": {
    "colab": {
     "base_uri": "https://localhost:8080/"
    },
    "id": "YpM98ckGMP0u",
    "outputId": "544d28f2-2cf1-4b4d-e258-58382f188f51"
   },
   "outputs": [
    {
     "name": "stderr",
     "output_type": "stream",
     "text": [
      "C:\\Users\\adity\\anaconda3\\lib\\site-packages\\keras\\optimizer_v2\\gradient_descent.py:102: UserWarning: The `lr` argument is deprecated, use `learning_rate` instead.\n",
      "  super(SGD, self).__init__(name, **kwargs)\n"
     ]
    }
   ],
   "source": [
    "# import of numpy and keras libraries\n",
    "from __future__ import print_function\n",
    "import numpy as np\n",
    "from tensorflow.keras.datasets import mnist\n",
    "from tensorflow.keras.models import Sequential\n",
    "from tensorflow.keras.layers import Dense, Activation\n",
    "from tensorflow.keras.optimizers import SGD\n",
    "from tensorflow.keras import utils\n",
    "import matplotlib.pyplot as plt\n",
    "\n",
    "# variables for network and training\n",
    "N_EPOCH = 200 # initially set at 200 ; you can change this later \n",
    "BATCH_SIZE = 128  \n",
    "VERBOSE = 1\n",
    "N_CLASSES = 10   # number of classes/categories of digits from 0 to 9, i.e. number of output units \n",
    "OPTIMIZER = SGD(lr=0.1) # Stochastic gradient descent optimiser\n",
    "N_HIDDEN = 128   # number of hidden units\n",
    "VALIDATION_SPLIT=0.2 # proportion of the dataset used for validation, with remaining .8 for training \n",
    "\n",
    "#each 2D image consists of 28x28 values/pixels, which needs to be reshaped in a vector of 784 pixels\n",
    "RESHAPED = 784\n",
    "\n",
    "# random seed number to be used for reproducibility\n",
    "np.random.seed(1671)  \n"
   ]
  },
  {
   "cell_type": "markdown",
   "metadata": {
    "id": "2rgZEImMMP08"
   },
   "source": [
    "**Preparing the MNIST dataset and visualising the input images**\n",
    "\n",
    "This part of the code prepares the input and output training set, and the corresponding test sets. \n",
    "It also visualises a sample image. The MNIST dataset is included in the Keras program and we do not need to use and external file."
   ]
  },
  {
   "cell_type": "code",
   "execution_count": 2,
   "metadata": {
    "colab": {
     "base_uri": "https://localhost:8080/",
     "height": 1000
    },
    "id": "l4-TuW2_MP0-",
    "outputId": "b8b8963e-8cef-4756-830b-b12fefa5c835"
   },
   "outputs": [
    {
     "name": "stdout",
     "output_type": "stream",
     "text": [
      "Training data input shape:  (60000, 28, 28)\n",
      "Training data output shape:  (60000,)\n",
      "Test data input shape:  (10000, 28, 28)\n",
      "Test data ouput shape:  (10000,)\n",
      "Sample input image: [[  0   0   0   0   0   0   0   0   0   0   0   0   0   0   0   0   0   0\n",
      "    0   0   0   0   0   0   0   0   0   0]\n",
      " [  0   0   0   0   0   0   0   0   0   0   0   0   0   0   0   0   0   0\n",
      "    0   0   0   0   0   0   0   0   0   0]\n",
      " [  0   0   0   0   0   0   0   0   0   0   0   0   0   0   0   0   0   0\n",
      "    0   0   0   0   0   0   0   0   0   0]\n",
      " [  0   0   0   0   0   0   0   0   0   0   0   0   0   0   0   0   0   0\n",
      "    0   0   0   0   0   0   0   0   0   0]\n",
      " [  0   0   0   0   0   0   0   0   0   0   0   0   0   0   0   0   0   0\n",
      "    0   0   0   0   0   0   0   0   0   0]\n",
      " [  0   0   0   0   0   0   0   0   0   0   0   0   0   0   0   0   0   0\n",
      "    0   0  67 232  39   0   0   0   0   0]\n",
      " [  0   0   0   0  62  81   0   0   0   0   0   0   0   0   0   0   0   0\n",
      "    0   0 120 180  39   0   0   0   0   0]\n",
      " [  0   0   0   0 126 163   0   0   0   0   0   0   0   0   0   0   0   0\n",
      "    0   2 153 210  40   0   0   0   0   0]\n",
      " [  0   0   0   0 220 163   0   0   0   0   0   0   0   0   0   0   0   0\n",
      "    0  27 254 162   0   0   0   0   0   0]\n",
      " [  0   0   0   0 222 163   0   0   0   0   0   0   0   0   0   0   0   0\n",
      "    0 183 254 125   0   0   0   0   0   0]\n",
      " [  0   0   0  46 245 163   0   0   0   0   0   0   0   0   0   0   0   0\n",
      "    0 198 254  56   0   0   0   0   0   0]\n",
      " [  0   0   0 120 254 163   0   0   0   0   0   0   0   0   0   0   0   0\n",
      "   23 231 254  29   0   0   0   0   0   0]\n",
      " [  0   0   0 159 254 120   0   0   0   0   0   0   0   0   0   0   0   0\n",
      "  163 254 216  16   0   0   0   0   0   0]\n",
      " [  0   0   0 159 254  67   0   0   0   0   0   0   0   0   0  14  86 178\n",
      "  248 254  91   0   0   0   0   0   0   0]\n",
      " [  0   0   0 159 254  85   0   0   0  47  49 116 144 150 241 243 234 179\n",
      "  241 252  40   0   0   0   0   0   0   0]\n",
      " [  0   0   0 150 253 237 207 207 207 253 254 250 240 198 143  91  28   5\n",
      "  233 250   0   0   0   0   0   0   0   0]\n",
      " [  0   0   0   0 119 177 177 177 177 177  98  56   0   0   0   0   0 102\n",
      "  254 220   0   0   0   0   0   0   0   0]\n",
      " [  0   0   0   0   0   0   0   0   0   0   0   0   0   0   0   0   0 169\n",
      "  254 137   0   0   0   0   0   0   0   0]\n",
      " [  0   0   0   0   0   0   0   0   0   0   0   0   0   0   0   0   0 169\n",
      "  254  57   0   0   0   0   0   0   0   0]\n",
      " [  0   0   0   0   0   0   0   0   0   0   0   0   0   0   0   0   0 169\n",
      "  254  57   0   0   0   0   0   0   0   0]\n",
      " [  0   0   0   0   0   0   0   0   0   0   0   0   0   0   0   0   0 169\n",
      "  255  94   0   0   0   0   0   0   0   0]\n",
      " [  0   0   0   0   0   0   0   0   0   0   0   0   0   0   0   0   0 169\n",
      "  254  96   0   0   0   0   0   0   0   0]\n",
      " [  0   0   0   0   0   0   0   0   0   0   0   0   0   0   0   0   0 169\n",
      "  254 153   0   0   0   0   0   0   0   0]\n",
      " [  0   0   0   0   0   0   0   0   0   0   0   0   0   0   0   0   0 169\n",
      "  255 153   0   0   0   0   0   0   0   0]\n",
      " [  0   0   0   0   0   0   0   0   0   0   0   0   0   0   0   0   0  96\n",
      "  254 153   0   0   0   0   0   0   0   0]\n",
      " [  0   0   0   0   0   0   0   0   0   0   0   0   0   0   0   0   0   0\n",
      "    0   0   0   0   0   0   0   0   0   0]\n",
      " [  0   0   0   0   0   0   0   0   0   0   0   0   0   0   0   0   0   0\n",
      "    0   0   0   0   0   0   0   0   0   0]\n",
      " [  0   0   0   0   0   0   0   0   0   0   0   0   0   0   0   0   0   0\n",
      "    0   0   0   0   0   0   0   0   0   0]]\n"
     ]
    },
    {
     "data": {
      "image/png": "[encoded data removed]",
      "text/plain": [
       "<Figure size 432x288 with 1 Axes>"
      ]
     },
     "metadata": {
      "needs_background": "light"
     },
     "output_type": "display_data"
    }
   ],
   "source": [
    "\n",
    "# data: shuffled and split between train and test sets, loading and using the Keras mnist dataset\n",
    "(input_X_train, output_Y_train), (input_X_test, output_Y_test) = mnist.load_data()\n",
    "\n",
    "# print the shapes of the input and output data\n",
    "print(\"Training data input shape: \" , input_X_train.shape)\n",
    "print(\"Training data output shape: \" , output_Y_train.shape)\n",
    "print(\"Test data input shape: \" , input_X_test.shape)\n",
    "print(\"Test data ouput shape: \" , output_Y_test.shape)\n",
    "\n",
    "# visualisation of the numerical vector and plot of a selected image\n",
    "Selected_Image = 2\n",
    "image = input_X_train[Selected_Image]\n",
    "print (\"Sample input image: \" + str(image))\n",
    "plt.imshow(image, cmap='gray')\n",
    "plt.show() \n"
   ]
  },
  {
   "cell_type": "markdown",
   "metadata": {
    "id": "cDqNl3taMP1P"
   },
   "source": [
    "The input images now have to be reshaped as a linear vector. That is, we go from a 2D image of 28x28 pixels, to a linear vector of 784 (i.e. 28*28) pixels, to be passed as the 784 input units. Moreover, the initial pixel grey values given as type __int__ in the range 0-255 will be normalised to the __float32__ type in the range 0-1. \n"
   ]
  },
  {
   "cell_type": "code",
   "execution_count": 3,
   "metadata": {
    "colab": {
     "base_uri": "https://localhost:8080/"
    },
    "id": "fB15FrXOMP1R",
    "outputId": "14bb70d3-2633-4eec-f783-f751c42ba407"
   },
   "outputs": [
    {
     "name": "stdout",
     "output_type": "stream",
     "text": [
      "Input data ready\n"
     ]
    }
   ],
   "source": [
    "# use 60000 images for training, 10000 for validation test\n",
    "input_X_train = input_X_train.reshape(60000, RESHAPED)\n",
    "input_X_test = input_X_test.reshape(10000, RESHAPED)\n",
    "input_X_train = input_X_train.astype('float32')\n",
    "input_X_test = input_X_test.astype('float32')\n",
    "\n",
    "# normalisation of the pixel values from 0-255 range to 0-1 range \n",
    "input_X_train /= 255\n",
    "input_X_test /= 255\n",
    "\n",
    "print (\"Input data ready\")"
   ]
  },
  {
   "cell_type": "markdown",
   "metadata": {
    "id": "KsCwC5y7MP1Z"
   },
   "source": [
    "**Preparing the output labels**\n",
    "\n",
    "This code converts the output data into categorical (one-hot encoding) vectors of 0s and 1s.\n",
    "See example of the visualisation of the one-hot vector for the selected image."
   ]
  },
  {
   "cell_type": "code",
   "execution_count": 4,
   "metadata": {
    "colab": {
     "base_uri": "https://localhost:8080/"
    },
    "id": "Rc4dgAqqMP1c",
    "outputId": "98b2e61e-92a5-4ea9-de99-97b57eefefc9"
   },
   "outputs": [
    {
     "name": "stdout",
     "output_type": "stream",
     "text": [
      "One-hot-vector: [0. 0. 0. 0. 1. 0. 0. 0. 0. 0.]\n"
     ]
    }
   ],
   "source": [
    "# convert class vectors to binary class matrices\n",
    "output_Y_train = utils.to_categorical(output_Y_train, N_CLASSES)\n",
    "output_Y_test = utils.to_categorical(output_Y_test, N_CLASSES)\n",
    "\n",
    "# print the categorical, one-hot output vector for the sample image\n",
    "label = output_Y_train[Selected_Image]\n",
    "print (\"One-hot-vector: \" + str(label))"
   ]
  },
  {
   "cell_type": "markdown",
   "metadata": {
    "id": "h-rcBfv8MP1q"
   },
   "source": [
    "Training the Simple Perceptron\n",
    "=========\n",
    "\n",
    "**Defining the network: Simple Perceptron**\n",
    "\n",
    "We will start by training a simple perceptron, i.e. a network with an input layer (the 784 input values/pixels) connected to the output layer (the 10 number classes)"
   ]
  },
  {
   "cell_type": "code",
   "execution_count": 5,
   "metadata": {
    "colab": {
     "base_uri": "https://localhost:8080/"
    },
    "id": "HTb4RC7zMP1s",
    "outputId": "eba814ce-d129-4213-f729-0a5b83a0fd97"
   },
   "outputs": [
    {
     "name": "stdout",
     "output_type": "stream",
     "text": [
      "Model: \"sequential\"\n",
      "_________________________________________________________________\n",
      " Layer (type)                Output Shape              Param #   \n",
      "=================================================================\n",
      " dense (Dense)               (None, 10)                7850      \n",
      "                                                                 \n",
      " activation (Activation)     (None, 10)                0         \n",
      "                                                                 \n",
      "=================================================================\n",
      "Total params: 7,850\n",
      "Trainable params: 7,850\n",
      "Non-trainable params: 0\n",
      "_________________________________________________________________\n"
     ]
    }
   ],
   "source": [
    "# Defaults sequential model\n",
    "model = Sequential()\n",
    "\n",
    "# Dense layer for all to all connections\n",
    "# Define the output layer with 10 output units, and softmax activation as categorical output\n",
    "model.add(Dense(N_CLASSES, input_shape=(RESHAPED,)))\n",
    "model.add(Activation('softmax'))\n",
    "\n",
    "# Use categorical crossentropy for the loss evaluation, and the accuracy metrics\n",
    "# we previously chose the SGD optimiser in the OPTIMIZER variable definition  \n",
    "model.compile(loss='categorical_crossentropy', optimizer=OPTIMIZER, metrics=['accuracy'])\n",
    "\n",
    "#show the model summary\n",
    "model.summary()\n"
   ]
  },
  {
   "cell_type": "markdown",
   "metadata": {
    "id": "uHyq0YoRMP1y"
   },
   "source": [
    "**Let's train the simple perceptron network**\n",
    "\n",
    "Let's now train (fit) the network with the above-defined batch size (128), and number of epochs (200). We save the training results into the history variable.\n",
    "\n",
    "Here we use the previous __VALIDATION_SPLIT=0.2__ definition to split the dataset into a 20% (0.2) validation set and the remaning 80% as training set. "
   ]
  },
  {
   "cell_type": "code",
   "execution_count": 6,
   "metadata": {
    "colab": {
     "base_uri": "https://localhost:8080/"
    },
    "id": "lg3RCFukMP10",
    "outputId": "af12683c-9bac-43aa-f219-522e7c694317"
   },
   "outputs": [
    {
     "name": "stdout",
     "output_type": "stream",
     "text": [
      "Epoch 1/200\n",
      "375/375 [==============================] - 1s 1ms/step - loss: 0.6253 - accuracy: 0.8444 - val_loss: 0.3968 - val_accuracy: 0.8957\n",
      "Epoch 2/200\n",
      "375/375 [==============================] - 0s 923us/step - loss: 0.3960 - accuracy: 0.8927 - val_loss: 0.3491 - val_accuracy: 0.9056\n",
      "Epoch 3/200\n",
      "375/375 [==============================] - 0s 912us/step - loss: 0.3593 - accuracy: 0.9004 - val_loss: 0.3282 - val_accuracy: 0.9089\n",
      "Epoch 4/200\n",
      "375/375 [==============================] - 0s 920us/step - loss: 0.3404 - accuracy: 0.9057 - val_loss: 0.3168 - val_accuracy: 0.9112\n",
      "Epoch 5/200\n",
      "375/375 [==============================] - 0s 909us/step - loss: 0.3281 - accuracy: 0.9083 - val_loss: 0.3092 - val_accuracy: 0.9140\n",
      "Epoch 6/200\n",
      "375/375 [==============================] - 0s 928us/step - loss: 0.3194 - accuracy: 0.9110 - val_loss: 0.3024 - val_accuracy: 0.9162\n",
      "Epoch 7/200\n",
      "375/375 [==============================] - 0s 920us/step - loss: 0.3128 - accuracy: 0.9134 - val_loss: 0.2996 - val_accuracy: 0.9154\n",
      "Epoch 8/200\n",
      "375/375 [==============================] - 0s 948us/step - loss: 0.3075 - accuracy: 0.9144 - val_loss: 0.2935 - val_accuracy: 0.9184\n",
      "Epoch 9/200\n",
      "375/375 [==============================] - 0s 928us/step - loss: 0.3031 - accuracy: 0.9154 - val_loss: 0.2917 - val_accuracy: 0.9187\n",
      "Epoch 10/200\n",
      "375/375 [==============================] - 0s 926us/step - loss: 0.2994 - accuracy: 0.9161 - val_loss: 0.2891 - val_accuracy: 0.9194\n",
      "Epoch 11/200\n",
      "375/375 [==============================] - 0s 960us/step - loss: 0.2963 - accuracy: 0.9176 - val_loss: 0.2860 - val_accuracy: 0.9194\n",
      "Epoch 12/200\n",
      "375/375 [==============================] - 0s 944us/step - loss: 0.2935 - accuracy: 0.9181 - val_loss: 0.2861 - val_accuracy: 0.9191\n",
      "Epoch 13/200\n",
      "375/375 [==============================] - 0s 933us/step - loss: 0.2911 - accuracy: 0.9182 - val_loss: 0.2841 - val_accuracy: 0.9206\n",
      "Epoch 14/200\n",
      "375/375 [==============================] - 0s 987us/step - loss: 0.2890 - accuracy: 0.9192 - val_loss: 0.2823 - val_accuracy: 0.9209\n",
      "Epoch 15/200\n",
      "375/375 [==============================] - 0s 971us/step - loss: 0.2870 - accuracy: 0.9197 - val_loss: 0.2812 - val_accuracy: 0.9213\n",
      "Epoch 16/200\n",
      "375/375 [==============================] - 0s 960us/step - loss: 0.2851 - accuracy: 0.9200 - val_loss: 0.2794 - val_accuracy: 0.9219\n",
      "Epoch 17/200\n",
      "375/375 [==============================] - 0s 943us/step - loss: 0.2834 - accuracy: 0.9215 - val_loss: 0.2785 - val_accuracy: 0.9219\n",
      "Epoch 18/200\n",
      "375/375 [==============================] - 0s 965us/step - loss: 0.2820 - accuracy: 0.9212 - val_loss: 0.2779 - val_accuracy: 0.9222\n",
      "Epoch 19/200\n",
      "375/375 [==============================] - 0s 941us/step - loss: 0.2806 - accuracy: 0.9217 - val_loss: 0.2766 - val_accuracy: 0.9227\n",
      "Epoch 20/200\n",
      "375/375 [==============================] - 0s 945us/step - loss: 0.2790 - accuracy: 0.9222 - val_loss: 0.2777 - val_accuracy: 0.9220\n",
      "Epoch 21/200\n",
      "375/375 [==============================] - 0s 938us/step - loss: 0.2779 - accuracy: 0.9224 - val_loss: 0.2760 - val_accuracy: 0.9222\n",
      "Epoch 22/200\n",
      "375/375 [==============================] - 0s 909us/step - loss: 0.2768 - accuracy: 0.9228 - val_loss: 0.2759 - val_accuracy: 0.9225\n",
      "Epoch 23/200\n",
      "375/375 [==============================] - 0s 922us/step - loss: 0.2759 - accuracy: 0.9226 - val_loss: 0.2745 - val_accuracy: 0.9226\n",
      "Epoch 24/200\n",
      "375/375 [==============================] - 0s 941us/step - loss: 0.2748 - accuracy: 0.9231 - val_loss: 0.2745 - val_accuracy: 0.9232\n",
      "Epoch 25/200\n",
      "375/375 [==============================] - 0s 941us/step - loss: 0.2740 - accuracy: 0.9240 - val_loss: 0.2734 - val_accuracy: 0.9239\n",
      "Epoch 26/200\n",
      "375/375 [==============================] - 0s 931us/step - loss: 0.2730 - accuracy: 0.9237 - val_loss: 0.2727 - val_accuracy: 0.9233\n",
      "Epoch 27/200\n",
      "375/375 [==============================] - 0s 922us/step - loss: 0.2721 - accuracy: 0.9243 - val_loss: 0.2733 - val_accuracy: 0.9244\n",
      "Epoch 28/200\n",
      "375/375 [==============================] - 0s 936us/step - loss: 0.2714 - accuracy: 0.9241 - val_loss: 0.2718 - val_accuracy: 0.9243\n",
      "Epoch 29/200\n",
      "375/375 [==============================] - 0s 955us/step - loss: 0.2707 - accuracy: 0.9239 - val_loss: 0.2717 - val_accuracy: 0.9250\n",
      "Epoch 30/200\n",
      "375/375 [==============================] - 0s 963us/step - loss: 0.2698 - accuracy: 0.9248 - val_loss: 0.2719 - val_accuracy: 0.9254\n",
      "Epoch 31/200\n",
      "375/375 [==============================] - 0s 944us/step - loss: 0.2691 - accuracy: 0.9248 - val_loss: 0.2713 - val_accuracy: 0.9247\n",
      "Epoch 32/200\n",
      "375/375 [==============================] - 0s 949us/step - loss: 0.2684 - accuracy: 0.9250 - val_loss: 0.2717 - val_accuracy: 0.9258\n",
      "Epoch 33/200\n",
      "375/375 [==============================] - 0s 939us/step - loss: 0.2679 - accuracy: 0.9250 - val_loss: 0.2706 - val_accuracy: 0.9243\n",
      "Epoch 34/200\n",
      "375/375 [==============================] - 0s 937us/step - loss: 0.2673 - accuracy: 0.9255 - val_loss: 0.2699 - val_accuracy: 0.9250\n",
      "Epoch 35/200\n",
      "375/375 [==============================] - 0s 935us/step - loss: 0.2666 - accuracy: 0.9259 - val_loss: 0.2697 - val_accuracy: 0.9249\n",
      "Epoch 36/200\n",
      "375/375 [==============================] - 0s 921us/step - loss: 0.2661 - accuracy: 0.9258 - val_loss: 0.2697 - val_accuracy: 0.9258\n",
      "Epoch 37/200\n",
      "375/375 [==============================] - 0s 930us/step - loss: 0.2654 - accuracy: 0.9262 - val_loss: 0.2698 - val_accuracy: 0.9243\n",
      "Epoch 38/200\n",
      "375/375 [==============================] - 0s 927us/step - loss: 0.2648 - accuracy: 0.9261 - val_loss: 0.2697 - val_accuracy: 0.9258\n",
      "Epoch 39/200\n",
      "375/375 [==============================] - 0s 1ms/step - loss: 0.2644 - accuracy: 0.9264 - val_loss: 0.2695 - val_accuracy: 0.9252\n",
      "Epoch 40/200\n",
      "375/375 [==============================] - 0s 928us/step - loss: 0.2638 - accuracy: 0.9268 - val_loss: 0.2697 - val_accuracy: 0.9255\n",
      "Epoch 41/200\n",
      "375/375 [==============================] - 0s 928us/step - loss: 0.2633 - accuracy: 0.9266 - val_loss: 0.2695 - val_accuracy: 0.9255\n",
      "Epoch 42/200\n",
      "375/375 [==============================] - 0s 931us/step - loss: 0.2628 - accuracy: 0.9264 - val_loss: 0.2691 - val_accuracy: 0.9259\n",
      "Epoch 43/200\n",
      "375/375 [==============================] - 0s 934us/step - loss: 0.2625 - accuracy: 0.9267 - val_loss: 0.2683 - val_accuracy: 0.9256\n",
      "Epoch 44/200\n",
      "375/375 [==============================] - 0s 922us/step - loss: 0.2620 - accuracy: 0.9268 - val_loss: 0.2693 - val_accuracy: 0.9252\n",
      "Epoch 45/200\n",
      "375/375 [==============================] - 0s 935us/step - loss: 0.2617 - accuracy: 0.9271 - val_loss: 0.2690 - val_accuracy: 0.9253\n",
      "Epoch 46/200\n",
      "375/375 [==============================] - 0s 951us/step - loss: 0.2613 - accuracy: 0.9272 - val_loss: 0.2682 - val_accuracy: 0.9262\n",
      "Epoch 47/200\n",
      "375/375 [==============================] - 0s 916us/step - loss: 0.2606 - accuracy: 0.9278 - val_loss: 0.2691 - val_accuracy: 0.9257\n",
      "Epoch 48/200\n",
      "375/375 [==============================] - 0s 995us/step - loss: 0.2603 - accuracy: 0.9270 - val_loss: 0.2684 - val_accuracy: 0.9262\n",
      "Epoch 49/200\n",
      "375/375 [==============================] - 0s 952us/step - loss: 0.2599 - accuracy: 0.9273 - val_loss: 0.2676 - val_accuracy: 0.9264\n",
      "Epoch 50/200\n",
      "375/375 [==============================] - 0s 932us/step - loss: 0.2597 - accuracy: 0.9277 - val_loss: 0.2680 - val_accuracy: 0.9278\n",
      "Epoch 51/200\n",
      "375/375 [==============================] - 0s 947us/step - loss: 0.2591 - accuracy: 0.9284 - val_loss: 0.2687 - val_accuracy: 0.9269\n",
      "Epoch 52/200\n",
      "375/375 [==============================] - 0s 947us/step - loss: 0.2589 - accuracy: 0.9277 - val_loss: 0.2682 - val_accuracy: 0.9273\n",
      "Epoch 53/200\n",
      "375/375 [==============================] - 0s 924us/step - loss: 0.2583 - accuracy: 0.9283 - val_loss: 0.2674 - val_accuracy: 0.9265\n",
      "Epoch 54/200\n",
      "375/375 [==============================] - 0s 939us/step - loss: 0.2583 - accuracy: 0.9286 - val_loss: 0.2680 - val_accuracy: 0.9262\n",
      "Epoch 55/200\n",
      "375/375 [==============================] - 0s 957us/step - loss: 0.2578 - accuracy: 0.9280 - val_loss: 0.2674 - val_accuracy: 0.9278\n",
      "Epoch 56/200\n",
      "375/375 [==============================] - 0s 947us/step - loss: 0.2575 - accuracy: 0.9285 - val_loss: 0.2669 - val_accuracy: 0.9273\n",
      "Epoch 57/200\n",
      "375/375 [==============================] - 0s 960us/step - loss: 0.2571 - accuracy: 0.9283 - val_loss: 0.2678 - val_accuracy: 0.9276\n",
      "Epoch 58/200\n",
      "375/375 [==============================] - 0s 931us/step - loss: 0.2568 - accuracy: 0.9284 - val_loss: 0.2678 - val_accuracy: 0.9268\n",
      "Epoch 59/200\n",
      "375/375 [==============================] - 0s 928us/step - loss: 0.2565 - accuracy: 0.9284 - val_loss: 0.2671 - val_accuracy: 0.9269\n",
      "Epoch 60/200\n",
      "375/375 [==============================] - 0s 955us/step - loss: 0.2562 - accuracy: 0.9282 - val_loss: 0.2665 - val_accuracy: 0.9277\n",
      "Epoch 61/200\n",
      "375/375 [==============================] - 0s 928us/step - loss: 0.2559 - accuracy: 0.9289 - val_loss: 0.2660 - val_accuracy: 0.9277\n",
      "Epoch 62/200\n",
      "375/375 [==============================] - 0s 933us/step - loss: 0.2556 - accuracy: 0.9287 - val_loss: 0.2669 - val_accuracy: 0.9276\n",
      "Epoch 63/200\n",
      "375/375 [==============================] - 0s 933us/step - loss: 0.2554 - accuracy: 0.9288 - val_loss: 0.2667 - val_accuracy: 0.9282\n",
      "Epoch 64/200\n",
      "375/375 [==============================] - 0s 917us/step - loss: 0.2551 - accuracy: 0.9290 - val_loss: 0.2673 - val_accuracy: 0.9277\n",
      "Epoch 65/200\n",
      "375/375 [==============================] - 0s 925us/step - loss: 0.2547 - accuracy: 0.9291 - val_loss: 0.2689 - val_accuracy: 0.9267\n",
      "Epoch 66/200\n",
      "375/375 [==============================] - 0s 926us/step - loss: 0.2545 - accuracy: 0.9292 - val_loss: 0.2677 - val_accuracy: 0.9262\n",
      "Epoch 67/200\n",
      "375/375 [==============================] - 0s 928us/step - loss: 0.2543 - accuracy: 0.9287 - val_loss: 0.2658 - val_accuracy: 0.9283\n",
      "Epoch 68/200\n",
      "375/375 [==============================] - 0s 927us/step - loss: 0.2539 - accuracy: 0.9295 - val_loss: 0.2672 - val_accuracy: 0.9262\n",
      "Epoch 69/200\n",
      "375/375 [==============================] - 0s 925us/step - loss: 0.2538 - accuracy: 0.9296 - val_loss: 0.2666 - val_accuracy: 0.9274\n",
      "Epoch 70/200\n",
      "375/375 [==============================] - 0s 922us/step - loss: 0.2534 - accuracy: 0.9290 - val_loss: 0.2663 - val_accuracy: 0.9272\n",
      "Epoch 71/200\n",
      "375/375 [==============================] - 0s 934us/step - loss: 0.2533 - accuracy: 0.9297 - val_loss: 0.2660 - val_accuracy: 0.9275\n",
      "Epoch 72/200\n",
      "375/375 [==============================] - 0s 915us/step - loss: 0.2531 - accuracy: 0.9295 - val_loss: 0.2667 - val_accuracy: 0.9268\n",
      "Epoch 73/200\n",
      "375/375 [==============================] - 0s 923us/step - loss: 0.2527 - accuracy: 0.9292 - val_loss: 0.2667 - val_accuracy: 0.9285\n",
      "Epoch 74/200\n",
      "375/375 [==============================] - 0s 926us/step - loss: 0.2525 - accuracy: 0.9299 - val_loss: 0.2659 - val_accuracy: 0.9284\n",
      "Epoch 75/200\n",
      "375/375 [==============================] - 0s 938us/step - loss: 0.2524 - accuracy: 0.9301 - val_loss: 0.2672 - val_accuracy: 0.9267\n",
      "Epoch 76/200\n",
      "375/375 [==============================] - 0s 935us/step - loss: 0.2520 - accuracy: 0.9296 - val_loss: 0.2678 - val_accuracy: 0.9267\n",
      "Epoch 77/200\n",
      "375/375 [==============================] - 0s 930us/step - loss: 0.2519 - accuracy: 0.9296 - val_loss: 0.2661 - val_accuracy: 0.9281\n",
      "Epoch 78/200\n",
      "375/375 [==============================] - 0s 928us/step - loss: 0.2517 - accuracy: 0.9295 - val_loss: 0.2665 - val_accuracy: 0.9278\n",
      "Epoch 79/200\n",
      "375/375 [==============================] - 0s 923us/step - loss: 0.2514 - accuracy: 0.9300 - val_loss: 0.2662 - val_accuracy: 0.9277\n",
      "Epoch 80/200\n",
      "375/375 [==============================] - 0s 944us/step - loss: 0.2512 - accuracy: 0.9291 - val_loss: 0.2656 - val_accuracy: 0.9281\n",
      "Epoch 81/200\n",
      "375/375 [==============================] - 0s 928us/step - loss: 0.2510 - accuracy: 0.9300 - val_loss: 0.2663 - val_accuracy: 0.9277\n",
      "Epoch 82/200\n",
      "375/375 [==============================] - 0s 927us/step - loss: 0.2509 - accuracy: 0.9300 - val_loss: 0.2672 - val_accuracy: 0.9262\n",
      "Epoch 83/200\n",
      "375/375 [==============================] - 0s 931us/step - loss: 0.2507 - accuracy: 0.9300 - val_loss: 0.2666 - val_accuracy: 0.9283\n",
      "Epoch 84/200\n",
      "375/375 [==============================] - 0s 929us/step - loss: 0.2504 - accuracy: 0.9301 - val_loss: 0.2656 - val_accuracy: 0.9285\n",
      "Epoch 85/200\n",
      "375/375 [==============================] - 0s 925us/step - loss: 0.2502 - accuracy: 0.9305 - val_loss: 0.2667 - val_accuracy: 0.9290\n",
      "Epoch 86/200\n",
      "375/375 [==============================] - 0s 936us/step - loss: 0.2499 - accuracy: 0.9310 - val_loss: 0.2663 - val_accuracy: 0.9284\n",
      "Epoch 87/200\n",
      "375/375 [==============================] - 0s 923us/step - loss: 0.2497 - accuracy: 0.9306 - val_loss: 0.2661 - val_accuracy: 0.9277\n",
      "Epoch 88/200\n",
      "375/375 [==============================] - 0s 926us/step - loss: 0.2498 - accuracy: 0.9305 - val_loss: 0.2660 - val_accuracy: 0.9277\n",
      "Epoch 89/200\n",
      "375/375 [==============================] - 0s 952us/step - loss: 0.2495 - accuracy: 0.9307 - val_loss: 0.2673 - val_accuracy: 0.9275\n",
      "Epoch 90/200\n",
      "375/375 [==============================] - 0s 928us/step - loss: 0.2493 - accuracy: 0.9305 - val_loss: 0.2665 - val_accuracy: 0.9283\n",
      "Epoch 91/200\n",
      "375/375 [==============================] - 0s 931us/step - loss: 0.2491 - accuracy: 0.9308 - val_loss: 0.2670 - val_accuracy: 0.9277\n",
      "Epoch 92/200\n",
      "375/375 [==============================] - 0s 1ms/step - loss: 0.2488 - accuracy: 0.9309 - val_loss: 0.2664 - val_accuracy: 0.9285\n",
      "Epoch 93/200\n",
      "375/375 [==============================] - 0s 998us/step - loss: 0.2488 - accuracy: 0.9299 - val_loss: 0.2666 - val_accuracy: 0.9286\n",
      "Epoch 94/200\n",
      "375/375 [==============================] - 0s 933us/step - loss: 0.2484 - accuracy: 0.9307 - val_loss: 0.2669 - val_accuracy: 0.9279\n",
      "Epoch 95/200\n",
      "375/375 [==============================] - 0s 928us/step - loss: 0.2483 - accuracy: 0.9306 - val_loss: 0.2671 - val_accuracy: 0.9275\n",
      "Epoch 96/200\n",
      "375/375 [==============================] - 0s 926us/step - loss: 0.2482 - accuracy: 0.9311 - val_loss: 0.2668 - val_accuracy: 0.9283\n",
      "Epoch 97/200\n",
      "375/375 [==============================] - 0s 930us/step - loss: 0.2481 - accuracy: 0.9311 - val_loss: 0.2661 - val_accuracy: 0.9282\n",
      "Epoch 98/200\n",
      "375/375 [==============================] - 0s 920us/step - loss: 0.2479 - accuracy: 0.9309 - val_loss: 0.2658 - val_accuracy: 0.9292\n",
      "Epoch 99/200\n",
      "375/375 [==============================] - 0s 937us/step - loss: 0.2480 - accuracy: 0.9312 - val_loss: 0.2667 - val_accuracy: 0.9288\n",
      "Epoch 100/200\n",
      "375/375 [==============================] - 0s 924us/step - loss: 0.2476 - accuracy: 0.9311 - val_loss: 0.2667 - val_accuracy: 0.9282\n",
      "Epoch 101/200\n",
      "375/375 [==============================] - 0s 928us/step - loss: 0.2473 - accuracy: 0.9311 - val_loss: 0.2674 - val_accuracy: 0.9277\n",
      "Epoch 102/200\n",
      "375/375 [==============================] - 0s 931us/step - loss: 0.2473 - accuracy: 0.9310 - val_loss: 0.2670 - val_accuracy: 0.9290\n",
      "Epoch 103/200\n",
      "375/375 [==============================] - 0s 942us/step - loss: 0.2472 - accuracy: 0.9310 - val_loss: 0.2671 - val_accuracy: 0.9291\n",
      "Epoch 104/200\n",
      "375/375 [==============================] - 0s 927us/step - loss: 0.2469 - accuracy: 0.9312 - val_loss: 0.2660 - val_accuracy: 0.9283\n",
      "Epoch 105/200\n",
      "375/375 [==============================] - 0s 918us/step - loss: 0.2468 - accuracy: 0.9311 - val_loss: 0.2656 - val_accuracy: 0.9287\n",
      "Epoch 106/200\n",
      "375/375 [==============================] - 0s 917us/step - loss: 0.2467 - accuracy: 0.9307 - val_loss: 0.2666 - val_accuracy: 0.9282\n",
      "Epoch 107/200\n",
      "375/375 [==============================] - 0s 919us/step - loss: 0.2465 - accuracy: 0.9316 - val_loss: 0.2665 - val_accuracy: 0.9281\n",
      "Epoch 108/200\n",
      "375/375 [==============================] - 0s 917us/step - loss: 0.2465 - accuracy: 0.9310 - val_loss: 0.2664 - val_accuracy: 0.9276\n",
      "Epoch 109/200\n",
      "375/375 [==============================] - 0s 921us/step - loss: 0.2461 - accuracy: 0.9314 - val_loss: 0.2663 - val_accuracy: 0.9288\n",
      "Epoch 110/200\n",
      "375/375 [==============================] - 0s 926us/step - loss: 0.2459 - accuracy: 0.9308 - val_loss: 0.2665 - val_accuracy: 0.9285\n",
      "Epoch 111/200\n",
      "375/375 [==============================] - 0s 927us/step - loss: 0.2460 - accuracy: 0.9312 - val_loss: 0.2661 - val_accuracy: 0.9289\n",
      "Epoch 112/200\n",
      "375/375 [==============================] - 0s 1ms/step - loss: 0.2457 - accuracy: 0.9310 - val_loss: 0.2666 - val_accuracy: 0.9277\n",
      "Epoch 113/200\n",
      "375/375 [==============================] - 0s 919us/step - loss: 0.2454 - accuracy: 0.9318 - val_loss: 0.2688 - val_accuracy: 0.9268\n",
      "Epoch 114/200\n",
      "375/375 [==============================] - 0s 929us/step - loss: 0.2453 - accuracy: 0.9315 - val_loss: 0.2682 - val_accuracy: 0.9283\n",
      "Epoch 115/200\n",
      "375/375 [==============================] - 0s 924us/step - loss: 0.2454 - accuracy: 0.9315 - val_loss: 0.2663 - val_accuracy: 0.9274\n",
      "Epoch 116/200\n",
      "375/375 [==============================] - 0s 939us/step - loss: 0.2452 - accuracy: 0.9317 - val_loss: 0.2670 - val_accuracy: 0.9282\n",
      "Epoch 117/200\n",
      "375/375 [==============================] - 0s 949us/step - loss: 0.2452 - accuracy: 0.9315 - val_loss: 0.2660 - val_accuracy: 0.9279\n",
      "Epoch 118/200\n",
      "375/375 [==============================] - 0s 961us/step - loss: 0.2449 - accuracy: 0.9316 - val_loss: 0.2666 - val_accuracy: 0.9291\n",
      "Epoch 119/200\n",
      "375/375 [==============================] - 0s 925us/step - loss: 0.2449 - accuracy: 0.9318 - val_loss: 0.2663 - val_accuracy: 0.9290\n",
      "Epoch 120/200\n",
      "375/375 [==============================] - 0s 940us/step - loss: 0.2448 - accuracy: 0.9319 - val_loss: 0.2661 - val_accuracy: 0.9278\n",
      "Epoch 121/200\n",
      "375/375 [==============================] - 0s 913us/step - loss: 0.2444 - accuracy: 0.9319 - val_loss: 0.2666 - val_accuracy: 0.9284\n",
      "Epoch 122/200\n",
      "375/375 [==============================] - 0s 929us/step - loss: 0.2443 - accuracy: 0.9314 - val_loss: 0.2676 - val_accuracy: 0.9272\n",
      "Epoch 123/200\n",
      "375/375 [==============================] - 0s 931us/step - loss: 0.2442 - accuracy: 0.9318 - val_loss: 0.2663 - val_accuracy: 0.9287\n",
      "Epoch 124/200\n",
      "375/375 [==============================] - 0s 931us/step - loss: 0.2443 - accuracy: 0.9317 - val_loss: 0.2661 - val_accuracy: 0.9287\n",
      "Epoch 125/200\n",
      "375/375 [==============================] - 0s 931us/step - loss: 0.2442 - accuracy: 0.9323 - val_loss: 0.2665 - val_accuracy: 0.9291\n",
      "Epoch 126/200\n",
      "375/375 [==============================] - 0s 933us/step - loss: 0.2438 - accuracy: 0.9321 - val_loss: 0.2669 - val_accuracy: 0.9290\n",
      "Epoch 127/200\n",
      "375/375 [==============================] - 0s 931us/step - loss: 0.2438 - accuracy: 0.9318 - val_loss: 0.2664 - val_accuracy: 0.9283\n",
      "Epoch 128/200\n",
      "375/375 [==============================] - 0s 930us/step - loss: 0.2436 - accuracy: 0.9322 - val_loss: 0.2671 - val_accuracy: 0.9283\n",
      "Epoch 129/200\n",
      "375/375 [==============================] - 0s 923us/step - loss: 0.2435 - accuracy: 0.9322 - val_loss: 0.2666 - val_accuracy: 0.9292\n",
      "Epoch 130/200\n",
      "375/375 [==============================] - 0s 927us/step - loss: 0.2435 - accuracy: 0.9321 - val_loss: 0.2679 - val_accuracy: 0.9281\n",
      "Epoch 131/200\n",
      "375/375 [==============================] - 0s 928us/step - loss: 0.2434 - accuracy: 0.9323 - val_loss: 0.2664 - val_accuracy: 0.9283\n",
      "Epoch 132/200\n",
      "375/375 [==============================] - 0s 919us/step - loss: 0.2432 - accuracy: 0.9325 - val_loss: 0.2664 - val_accuracy: 0.9283\n",
      "Epoch 133/200\n",
      "375/375 [==============================] - 0s 926us/step - loss: 0.2430 - accuracy: 0.9319 - val_loss: 0.2663 - val_accuracy: 0.9286\n",
      "Epoch 134/200\n",
      "375/375 [==============================] - 0s 928us/step - loss: 0.2430 - accuracy: 0.9327 - val_loss: 0.2664 - val_accuracy: 0.9284\n",
      "Epoch 135/200\n",
      "375/375 [==============================] - 0s 920us/step - loss: 0.2430 - accuracy: 0.9324 - val_loss: 0.2676 - val_accuracy: 0.9273\n",
      "Epoch 136/200\n",
      "375/375 [==============================] - 0s 924us/step - loss: 0.2427 - accuracy: 0.9320 - val_loss: 0.2671 - val_accuracy: 0.9281\n",
      "Epoch 137/200\n",
      "375/375 [==============================] - 0s 927us/step - loss: 0.2426 - accuracy: 0.9325 - val_loss: 0.2669 - val_accuracy: 0.9282\n",
      "Epoch 138/200\n",
      "375/375 [==============================] - 0s 1ms/step - loss: 0.2426 - accuracy: 0.9325 - val_loss: 0.2677 - val_accuracy: 0.9283\n",
      "Epoch 139/200\n",
      "375/375 [==============================] - 0s 989us/step - loss: 0.2425 - accuracy: 0.9326 - val_loss: 0.2663 - val_accuracy: 0.9299\n",
      "Epoch 140/200\n",
      "375/375 [==============================] - 0s 912us/step - loss: 0.2422 - accuracy: 0.9323 - val_loss: 0.2672 - val_accuracy: 0.9289\n",
      "Epoch 141/200\n",
      "375/375 [==============================] - 0s 921us/step - loss: 0.2423 - accuracy: 0.9319 - val_loss: 0.2668 - val_accuracy: 0.9284\n",
      "Epoch 142/200\n",
      "375/375 [==============================] - 0s 920us/step - loss: 0.2419 - accuracy: 0.9327 - val_loss: 0.2671 - val_accuracy: 0.9288\n",
      "Epoch 143/200\n",
      "375/375 [==============================] - 0s 938us/step - loss: 0.2421 - accuracy: 0.9324 - val_loss: 0.2668 - val_accuracy: 0.9291\n",
      "Epoch 144/200\n",
      "375/375 [==============================] - 0s 936us/step - loss: 0.2421 - accuracy: 0.9327 - val_loss: 0.2672 - val_accuracy: 0.9281\n",
      "Epoch 145/200\n",
      "375/375 [==============================] - 0s 914us/step - loss: 0.2416 - accuracy: 0.9326 - val_loss: 0.2678 - val_accuracy: 0.9284\n",
      "Epoch 146/200\n",
      "375/375 [==============================] - 0s 925us/step - loss: 0.2416 - accuracy: 0.9327 - val_loss: 0.2678 - val_accuracy: 0.9274\n",
      "Epoch 147/200\n",
      "375/375 [==============================] - 0s 920us/step - loss: 0.2417 - accuracy: 0.9328 - val_loss: 0.2671 - val_accuracy: 0.9286\n",
      "Epoch 148/200\n",
      "375/375 [==============================] - 0s 917us/step - loss: 0.2416 - accuracy: 0.9326 - val_loss: 0.2671 - val_accuracy: 0.9287\n",
      "Epoch 149/200\n",
      "375/375 [==============================] - 0s 924us/step - loss: 0.2414 - accuracy: 0.9329 - val_loss: 0.2670 - val_accuracy: 0.9286\n",
      "Epoch 150/200\n",
      "375/375 [==============================] - 0s 922us/step - loss: 0.2412 - accuracy: 0.9325 - val_loss: 0.2680 - val_accuracy: 0.9274\n",
      "Epoch 151/200\n",
      "375/375 [==============================] - 0s 917us/step - loss: 0.2413 - accuracy: 0.9327 - val_loss: 0.2669 - val_accuracy: 0.9283\n",
      "Epoch 152/200\n",
      "375/375 [==============================] - 0s 928us/step - loss: 0.2412 - accuracy: 0.9329 - val_loss: 0.2666 - val_accuracy: 0.9289\n",
      "Epoch 153/200\n",
      "375/375 [==============================] - 0s 925us/step - loss: 0.2409 - accuracy: 0.9330 - val_loss: 0.2681 - val_accuracy: 0.9280\n",
      "Epoch 154/200\n",
      "375/375 [==============================] - 0s 936us/step - loss: 0.2408 - accuracy: 0.9330 - val_loss: 0.2666 - val_accuracy: 0.9290\n",
      "Epoch 155/200\n",
      "375/375 [==============================] - 0s 921us/step - loss: 0.2409 - accuracy: 0.9326 - val_loss: 0.2674 - val_accuracy: 0.9279\n",
      "Epoch 156/200\n",
      "375/375 [==============================] - 0s 941us/step - loss: 0.2407 - accuracy: 0.9329 - val_loss: 0.2680 - val_accuracy: 0.9273\n",
      "Epoch 157/200\n",
      "375/375 [==============================] - 0s 920us/step - loss: 0.2407 - accuracy: 0.9324 - val_loss: 0.2668 - val_accuracy: 0.9287\n",
      "Epoch 158/200\n",
      "375/375 [==============================] - 0s 916us/step - loss: 0.2405 - accuracy: 0.9331 - val_loss: 0.2668 - val_accuracy: 0.9287\n",
      "Epoch 159/200\n",
      "375/375 [==============================] - 0s 917us/step - loss: 0.2403 - accuracy: 0.9333 - val_loss: 0.2669 - val_accuracy: 0.9286\n",
      "Epoch 160/200\n",
      "375/375 [==============================] - 0s 928us/step - loss: 0.2404 - accuracy: 0.9336 - val_loss: 0.2671 - val_accuracy: 0.9277\n",
      "Epoch 161/200\n",
      "375/375 [==============================] - 0s 917us/step - loss: 0.2403 - accuracy: 0.9332 - val_loss: 0.2672 - val_accuracy: 0.9289\n",
      "Epoch 162/200\n",
      "375/375 [==============================] - 0s 919us/step - loss: 0.2402 - accuracy: 0.9331 - val_loss: 0.2676 - val_accuracy: 0.9280\n",
      "Epoch 163/200\n",
      "375/375 [==============================] - 0s 921us/step - loss: 0.2399 - accuracy: 0.9334 - val_loss: 0.2675 - val_accuracy: 0.9287\n",
      "Epoch 164/200\n",
      "375/375 [==============================] - 0s 923us/step - loss: 0.2401 - accuracy: 0.9331 - val_loss: 0.2670 - val_accuracy: 0.9289\n",
      "Epoch 165/200\n",
      "375/375 [==============================] - 0s 947us/step - loss: 0.2398 - accuracy: 0.9335 - val_loss: 0.2673 - val_accuracy: 0.9285\n",
      "Epoch 166/200\n",
      "375/375 [==============================] - 0s 933us/step - loss: 0.2398 - accuracy: 0.9331 - val_loss: 0.2677 - val_accuracy: 0.9282\n",
      "Epoch 167/200\n",
      "375/375 [==============================] - 0s 920us/step - loss: 0.2397 - accuracy: 0.9337 - val_loss: 0.2680 - val_accuracy: 0.9293\n",
      "Epoch 168/200\n",
      "375/375 [==============================] - 0s 918us/step - loss: 0.2396 - accuracy: 0.9340 - val_loss: 0.2673 - val_accuracy: 0.9287\n",
      "Epoch 169/200\n",
      "375/375 [==============================] - 0s 915us/step - loss: 0.2396 - accuracy: 0.9332 - val_loss: 0.2676 - val_accuracy: 0.9288\n",
      "Epoch 170/200\n",
      "375/375 [==============================] - 0s 915us/step - loss: 0.2395 - accuracy: 0.9332 - val_loss: 0.2672 - val_accuracy: 0.9286\n",
      "Epoch 171/200\n",
      "375/375 [==============================] - 0s 920us/step - loss: 0.2394 - accuracy: 0.9336 - val_loss: 0.2679 - val_accuracy: 0.9278\n",
      "Epoch 172/200\n",
      "375/375 [==============================] - 0s 920us/step - loss: 0.2392 - accuracy: 0.9336 - val_loss: 0.2677 - val_accuracy: 0.9285\n",
      "Epoch 173/200\n",
      "375/375 [==============================] - 0s 1ms/step - loss: 0.2393 - accuracy: 0.9334 - val_loss: 0.2678 - val_accuracy: 0.9284\n",
      "Epoch 174/200\n",
      "375/375 [==============================] - 0s 917us/step - loss: 0.2390 - accuracy: 0.9331 - val_loss: 0.2681 - val_accuracy: 0.9292\n",
      "Epoch 175/200\n",
      "375/375 [==============================] - 0s 946us/step - loss: 0.2390 - accuracy: 0.9333 - val_loss: 0.2674 - val_accuracy: 0.9290\n",
      "Epoch 176/200\n",
      "375/375 [==============================] - 0s 925us/step - loss: 0.2389 - accuracy: 0.9341 - val_loss: 0.2675 - val_accuracy: 0.9291\n",
      "Epoch 177/200\n",
      "375/375 [==============================] - 0s 920us/step - loss: 0.2389 - accuracy: 0.9333 - val_loss: 0.2673 - val_accuracy: 0.9283\n",
      "Epoch 178/200\n",
      "375/375 [==============================] - 0s 955us/step - loss: 0.2388 - accuracy: 0.9336 - val_loss: 0.2678 - val_accuracy: 0.9287\n",
      "Epoch 179/200\n",
      "375/375 [==============================] - 0s 947us/step - loss: 0.2387 - accuracy: 0.9335 - val_loss: 0.2682 - val_accuracy: 0.9287\n",
      "Epoch 180/200\n",
      "375/375 [==============================] - 0s 944us/step - loss: 0.2386 - accuracy: 0.9337 - val_loss: 0.2686 - val_accuracy: 0.9272\n",
      "Epoch 181/200\n",
      "375/375 [==============================] - 0s 934us/step - loss: 0.2388 - accuracy: 0.9335 - val_loss: 0.2677 - val_accuracy: 0.9287\n",
      "Epoch 182/200\n",
      "375/375 [==============================] - 0s 941us/step - loss: 0.2384 - accuracy: 0.9336 - val_loss: 0.2678 - val_accuracy: 0.9288\n",
      "Epoch 183/200\n",
      "375/375 [==============================] - 0s 933us/step - loss: 0.2383 - accuracy: 0.9341 - val_loss: 0.2684 - val_accuracy: 0.9271\n",
      "Epoch 184/200\n",
      "375/375 [==============================] - 0s 933us/step - loss: 0.2384 - accuracy: 0.9336 - val_loss: 0.2679 - val_accuracy: 0.9291\n",
      "Epoch 185/200\n",
      "375/375 [==============================] - 0s 933us/step - loss: 0.2383 - accuracy: 0.9335 - val_loss: 0.2679 - val_accuracy: 0.9285\n",
      "Epoch 186/200\n",
      "375/375 [==============================] - 0s 976us/step - loss: 0.2382 - accuracy: 0.9339 - val_loss: 0.2677 - val_accuracy: 0.9294\n",
      "Epoch 187/200\n",
      "375/375 [==============================] - 0s 930us/step - loss: 0.2382 - accuracy: 0.9341 - val_loss: 0.2679 - val_accuracy: 0.9290\n",
      "Epoch 188/200\n",
      "375/375 [==============================] - 0s 927us/step - loss: 0.2381 - accuracy: 0.9341 - val_loss: 0.2686 - val_accuracy: 0.9281\n",
      "Epoch 189/200\n",
      "375/375 [==============================] - 0s 945us/step - loss: 0.2380 - accuracy: 0.9335 - val_loss: 0.2680 - val_accuracy: 0.9291\n",
      "Epoch 190/200\n",
      "375/375 [==============================] - 0s 938us/step - loss: 0.2379 - accuracy: 0.9340 - val_loss: 0.2680 - val_accuracy: 0.9282\n",
      "Epoch 191/200\n",
      "375/375 [==============================] - 0s 932us/step - loss: 0.2377 - accuracy: 0.9342 - val_loss: 0.2688 - val_accuracy: 0.9276\n",
      "Epoch 192/200\n",
      "375/375 [==============================] - 0s 927us/step - loss: 0.2377 - accuracy: 0.9337 - val_loss: 0.2676 - val_accuracy: 0.9293\n",
      "Epoch 193/200\n",
      "375/375 [==============================] - 0s 930us/step - loss: 0.2376 - accuracy: 0.9339 - val_loss: 0.2679 - val_accuracy: 0.9288\n",
      "Epoch 194/200\n",
      "375/375 [==============================] - 0s 944us/step - loss: 0.2373 - accuracy: 0.9341 - val_loss: 0.2687 - val_accuracy: 0.9277\n",
      "Epoch 195/200\n",
      "375/375 [==============================] - 0s 952us/step - loss: 0.2374 - accuracy: 0.9337 - val_loss: 0.2677 - val_accuracy: 0.9285\n",
      "Epoch 196/200\n",
      "375/375 [==============================] - 0s 917us/step - loss: 0.2373 - accuracy: 0.9337 - val_loss: 0.2688 - val_accuracy: 0.9279\n",
      "Epoch 197/200\n",
      "375/375 [==============================] - 0s 920us/step - loss: 0.2374 - accuracy: 0.9337 - val_loss: 0.2694 - val_accuracy: 0.9274\n",
      "Epoch 198/200\n",
      "375/375 [==============================] - 0s 933us/step - loss: 0.2373 - accuracy: 0.9340 - val_loss: 0.2686 - val_accuracy: 0.9283\n",
      "Epoch 199/200\n",
      "375/375 [==============================] - 0s 947us/step - loss: 0.2372 - accuracy: 0.9336 - val_loss: 0.2680 - val_accuracy: 0.9292\n",
      "Epoch 200/200\n",
      "375/375 [==============================] - 0s 946us/step - loss: 0.2371 - accuracy: 0.9341 - val_loss: 0.2686 - val_accuracy: 0.9282\n"
     ]
    }
   ],
   "source": [
    "#train the network\n",
    "history = model.fit(input_X_train, output_Y_train, batch_size=BATCH_SIZE, epochs=N_EPOCH, verbose=VERBOSE, validation_split=VALIDATION_SPLIT)\n",
    "\n"
   ]
  },
  {
   "cell_type": "markdown",
   "metadata": {
    "id": "2MpCg_YTMP17"
   },
   "source": [
    "**Looking at the results of the trained network**\n",
    "\n",
    "Let's evaluate the model to see how well it has learned ( or not) the MNIST problem."
   ]
  },
  {
   "cell_type": "code",
   "execution_count": 7,
   "metadata": {
    "colab": {
     "base_uri": "https://localhost:8080/"
    },
    "id": "ZN9rro7KMP19",
    "outputId": "3197ae6b-a74d-470b-fb58-365f140fbb35"
   },
   "outputs": [
    {
     "name": "stdout",
     "output_type": "stream",
     "text": [
      "313/313 [==============================] - 0s 607us/step - loss: 0.2687 - accuracy: 0.9261\n",
      "\n",
      "Test score/loss: 0.2686692178249359\n",
      "Test accuracy: 0.9261000156402588\n"
     ]
    }
   ],
   "source": [
    "#test the network using the generalisation test dataset\n",
    "score = model.evaluate(input_X_test, output_Y_test, verbose=VERBOSE)\n",
    "print(\"\\nTest score/loss:\", score[0])\n",
    "print(\"Test accuracy:\", score[1])\n"
   ]
  },
  {
   "cell_type": "markdown",
   "metadata": {
    "id": "GZuRJvfwMP2K"
   },
   "source": [
    "Training the Multi-Layer Perceptron\n",
    "=========\n",
    "**Defining the network: Multi-Layer Perceptron**\n",
    "\n",
    "We will now create a multi-layer perceptron with 784 input units, two hidden layers with 128 hidden units each, and an output layer with the 10 units.\n",
    "\n"
   ]
  },
  {
   "cell_type": "code",
   "execution_count": 8,
   "metadata": {
    "colab": {
     "base_uri": "https://localhost:8080/"
    },
    "id": "HoF0ib-SMP2N",
    "outputId": "379100ca-a8b9-4d58-d64f-272400783603"
   },
   "outputs": [
    {
     "name": "stdout",
     "output_type": "stream",
     "text": [
      "Model: \"sequential_1\"\n",
      "_________________________________________________________________\n",
      " Layer (type)                Output Shape              Param #   \n",
      "=================================================================\n",
      " dense_1 (Dense)             (None, 128)               100480    \n",
      "                                                                 \n",
      " activation_1 (Activation)   (None, 128)               0         \n",
      "                                                                 \n",
      " dense_2 (Dense)             (None, 128)               16512     \n",
      "                                                                 \n",
      " activation_2 (Activation)   (None, 128)               0         \n",
      "                                                                 \n",
      " dense_3 (Dense)             (None, 10)                1290      \n",
      "                                                                 \n",
      " activation_3 (Activation)   (None, 10)                0         \n",
      "                                                                 \n",
      "=================================================================\n",
      "Total params: 118,282\n",
      "Trainable params: 118,282\n",
      "Non-trainable params: 0\n",
      "_________________________________________________________________\n"
     ]
    }
   ],
   "source": [
    "N_EPOCH = 20 # we need fewer epoch than before, as the multi-layer percetpron can learn faster.\n",
    "N_HIDDEN = 128\n",
    "\n",
    "model = Sequential()\n",
    "\n",
    "# Hidden layer 1 with 128 hidden units and ReLu activation function\n",
    "model.add(Dense(N_HIDDEN, input_shape=(RESHAPED,)))\n",
    "model.add(Activation('relu'))\n",
    "# Hidden layer 2 with 128 hidden units and ReLu activation function\n",
    "model.add(Dense(N_HIDDEN))\n",
    "model.add(Activation('relu'))\n",
    "\n",
    "# output layer with 10 units and softmax activation\n",
    "model.add(Dense(N_CLASSES))\n",
    "model.add(Activation('softmax'))\n",
    "\n",
    "# Summary of the whole model\n",
    "model.summary()\n",
    "\n",
    "# model compilation\n",
    "model.compile(loss='categorical_crossentropy', optimizer=OPTIMIZER, metrics=['accuracy'])"
   ]
  },
  {
   "cell_type": "markdown",
   "metadata": {
    "id": "OgYzi3hyMP2V"
   },
   "source": [
    "**Let's train the mulri-layer perceptron network**\n",
    "\n",
    "Let's now train (fit) the network with the above-defined batch size (128), and number of epochs (20)."
   ]
  },
  {
   "cell_type": "code",
   "execution_count": 9,
   "metadata": {
    "colab": {
     "base_uri": "https://localhost:8080/"
    },
    "id": "iNa3cmoaMP2X",
    "outputId": "8d099967-8a6b-405b-f915-54aaabac2ed0"
   },
   "outputs": [
    {
     "name": "stdout",
     "output_type": "stream",
     "text": [
      "Epoch 1/20\n",
      "375/375 [==============================] - 1s 2ms/step - loss: 0.5030 - accuracy: 0.8568 - val_loss: 0.2715 - val_accuracy: 0.9215\n",
      "Epoch 2/20\n",
      "375/375 [==============================] - 1s 1ms/step - loss: 0.2348 - accuracy: 0.9307 - val_loss: 0.1933 - val_accuracy: 0.9447\n",
      "Epoch 3/20\n",
      "375/375 [==============================] - 1s 1ms/step - loss: 0.1795 - accuracy: 0.9472 - val_loss: 0.1721 - val_accuracy: 0.9510\n",
      "Epoch 4/20\n",
      "375/375 [==============================] - 1s 1ms/step - loss: 0.1450 - accuracy: 0.9578 - val_loss: 0.1628 - val_accuracy: 0.9519\n",
      "Epoch 5/20\n",
      "375/375 [==============================] - 1s 1ms/step - loss: 0.1215 - accuracy: 0.9637 - val_loss: 0.1281 - val_accuracy: 0.9614\n",
      "Epoch 6/20\n",
      "375/375 [==============================] - 1s 1ms/step - loss: 0.1044 - accuracy: 0.9692 - val_loss: 0.1164 - val_accuracy: 0.9672\n",
      "Epoch 7/20\n",
      "375/375 [==============================] - 1s 1ms/step - loss: 0.0900 - accuracy: 0.9736 - val_loss: 0.1186 - val_accuracy: 0.9657\n",
      "Epoch 8/20\n",
      "375/375 [==============================] - 1s 1ms/step - loss: 0.0782 - accuracy: 0.9773 - val_loss: 0.1032 - val_accuracy: 0.9695\n",
      "Epoch 9/20\n",
      "375/375 [==============================] - 1s 1ms/step - loss: 0.0699 - accuracy: 0.9796 - val_loss: 0.0991 - val_accuracy: 0.9712\n",
      "Epoch 10/20\n",
      "375/375 [==============================] - 1s 1ms/step - loss: 0.0621 - accuracy: 0.9817 - val_loss: 0.0986 - val_accuracy: 0.9712\n",
      "Epoch 11/20\n",
      "375/375 [==============================] - 1s 1ms/step - loss: 0.0553 - accuracy: 0.9839 - val_loss: 0.1041 - val_accuracy: 0.9699\n",
      "Epoch 12/20\n",
      "375/375 [==============================] - 1s 1ms/step - loss: 0.0496 - accuracy: 0.9859 - val_loss: 0.0950 - val_accuracy: 0.9730\n",
      "Epoch 13/20\n",
      "375/375 [==============================] - 1s 1ms/step - loss: 0.0440 - accuracy: 0.9873 - val_loss: 0.0910 - val_accuracy: 0.9741\n",
      "Epoch 14/20\n",
      "375/375 [==============================] - 1s 1ms/step - loss: 0.0393 - accuracy: 0.9893 - val_loss: 0.0893 - val_accuracy: 0.9737\n",
      "Epoch 15/20\n",
      "375/375 [==============================] - 1s 1ms/step - loss: 0.0356 - accuracy: 0.9904 - val_loss: 0.0875 - val_accuracy: 0.9752\n",
      "Epoch 16/20\n",
      "375/375 [==============================] - 1s 1ms/step - loss: 0.0322 - accuracy: 0.9916 - val_loss: 0.0876 - val_accuracy: 0.9752\n",
      "Epoch 17/20\n",
      "375/375 [==============================] - 1s 1ms/step - loss: 0.0286 - accuracy: 0.9925 - val_loss: 0.0882 - val_accuracy: 0.9752\n",
      "Epoch 18/20\n",
      "375/375 [==============================] - 1s 1ms/step - loss: 0.0265 - accuracy: 0.9931 - val_loss: 0.0888 - val_accuracy: 0.9745\n",
      "Epoch 19/20\n",
      "375/375 [==============================] - 1s 1ms/step - loss: 0.0238 - accuracy: 0.9943 - val_loss: 0.0894 - val_accuracy: 0.9758\n",
      "Epoch 20/20\n",
      "375/375 [==============================] - 1s 1ms/step - loss: 0.0211 - accuracy: 0.9951 - val_loss: 0.0893 - val_accuracy: 0.9755\n"
     ]
    }
   ],
   "source": [
    "#train the network\n",
    "history = model.fit(input_X_train, output_Y_train, batch_size=BATCH_SIZE, epochs=N_EPOCH, verbose=VERBOSE, validation_split=VALIDATION_SPLIT)\n"
   ]
  },
  {
   "cell_type": "markdown",
   "metadata": {
    "id": "kV5v4LNjMP2e"
   },
   "source": [
    "**Looking at the results of the trained network**\n",
    "\n",
    "Let's explotre the results both for the score and accuracy values, as well as to visualise the plots of these values during the training."
   ]
  },
  {
   "cell_type": "code",
   "execution_count": 10,
   "metadata": {
    "colab": {
     "base_uri": "https://localhost:8080/"
    },
    "id": "CXpu8p9uMP2f",
    "outputId": "2c144fed-3cf7-41f8-cd07-a0dadc7e6c52"
   },
   "outputs": [
    {
     "name": "stdout",
     "output_type": "stream",
     "text": [
      "313/313 [==============================] - 0s 741us/step - loss: 0.0750 - accuracy: 0.9768\n",
      "\n",
      "Test score/loss: 0.0750323012471199\n",
      "Test accuracy: 0.9768000245094299\n"
     ]
    }
   ],
   "source": [
    "#test the network\n",
    "score = model.evaluate(input_X_test, output_Y_test, verbose=VERBOSE)\n",
    "print(\"\\nTest score/loss:\", score[0])\n",
    "print(\"Test accuracy:\", score[1])"
   ]
  },
  {
   "cell_type": "code",
   "execution_count": 11,
   "metadata": {
    "colab": {
     "base_uri": "https://localhost:8080/",
     "height": 312
    },
    "id": "yYRZkVf6MP2t",
    "outputId": "be2efff1-d201-4f54-821b-1b8a69aba865"
   },
   "outputs": [
    {
     "name": "stdout",
     "output_type": "stream",
     "text": [
      "dict_keys(['loss', 'accuracy', 'val_loss', 'val_accuracy'])\n"
     ]
    },
    {
     "data": {
      "image/png": "[encoded data removed]",
      "text/plain": [
       "<Figure size 432x288 with 1 Axes>"
      ]
     },
     "metadata": {
      "needs_background": "light"
     },
     "output_type": "display_data"
    }
   ],
   "source": [
    "# list all data in history\n",
    "print(history.history.keys())\n",
    "# summarize history for accuracy\n",
    "plt.plot(history.history['accuracy'])\n",
    "plt.plot(history.history['val_accuracy'])\n",
    "plt.title('model accuracy')\n",
    "plt.ylabel('accuracy')\n",
    "plt.xlabel('epoch')\n",
    "plt.legend(['train', 'test'], loc='upper left')\n",
    "plt.show()\n"
   ]
  },
  {
   "cell_type": "code",
   "execution_count": 12,
   "metadata": {
    "colab": {
     "base_uri": "https://localhost:8080/",
     "height": 295
    },
    "id": "MJ9YbKviMP2z",
    "outputId": "faa63473-4582-4a51-a9db-52d2e5f707e5"
   },
   "outputs": [
    {
     "data": {
      "image/png": "[encoded data removed]",
      "text/plain": [
       "<Figure size 432x288 with 1 Axes>"
      ]
     },
     "metadata": {
      "needs_background": "light"
     },
     "output_type": "display_data"
    }
   ],
   "source": [
    "# summarize history for loss\n",
    "plt.plot(history.history['loss'])\n",
    "plt.plot(history.history['val_loss'])\n",
    "plt.title('model loss')\n",
    "plt.ylabel('loss')\n",
    "plt.xlabel('epoch')\n",
    "plt.legend(['train', 'test'], loc='upper left')\n",
    "plt.show()"
   ]
  },
  {
   "cell_type": "markdown",
   "metadata": {
    "id": "CV-aShF1MP24"
   },
   "source": [
    "**Adding weight droputs**\n",
    "\n",
    "An efficient way to reduce the number of parameters (weights) to be trained, as well as to increase generalisation capabilities, is to randomly remove (i.e. __dropout__) a certain proportion of the nodes at random in each epoch."
   ]
  },
  {
   "cell_type": "code",
   "execution_count": 13,
   "metadata": {
    "colab": {
     "base_uri": "https://localhost:8080/"
    },
    "id": "4GNrMiVoMP25",
    "outputId": "49309e1e-949f-4f64-83df-0a602190c0ec"
   },
   "outputs": [
    {
     "name": "stdout",
     "output_type": "stream",
     "text": [
      "Model: \"sequential_2\"\n",
      "_________________________________________________________________\n",
      " Layer (type)                Output Shape              Param #   \n",
      "=================================================================\n",
      " dense_4 (Dense)             (None, 128)               100480    \n",
      "                                                                 \n",
      " activation_4 (Activation)   (None, 128)               0         \n",
      "                                                                 \n",
      " dropout (Dropout)           (None, 128)               0         \n",
      "                                                                 \n",
      " dense_5 (Dense)             (None, 128)               16512     \n",
      "                                                                 \n",
      " activation_5 (Activation)   (None, 128)               0         \n",
      "                                                                 \n",
      " dropout_1 (Dropout)         (None, 128)               0         \n",
      "                                                                 \n",
      " dense_6 (Dense)             (None, 10)                1290      \n",
      "                                                                 \n",
      " activation_6 (Activation)   (None, 10)                0         \n",
      "                                                                 \n",
      "=================================================================\n",
      "Total params: 118,282\n",
      "Trainable params: 118,282\n",
      "Non-trainable params: 0\n",
      "_________________________________________________________________\n"
     ]
    }
   ],
   "source": [
    "# import the dropout layer type\n",
    "from tensorflow.keras.layers import Dropout\n",
    "\n",
    "# Probability of weights dropout\n",
    "P_DROPOUT = 0.3\n",
    "\n",
    "# We can increse this parameter afterwards\n",
    "N_EPOCH = 20\n",
    "\n",
    "model = Sequential()\n",
    "model.add(Dense(N_HIDDEN, input_shape=(RESHAPED,)))\n",
    "model.add(Activation('relu'))\n",
    "model.add(Dropout(P_DROPOUT))\n",
    "model.add(Dense(N_HIDDEN))\n",
    "model.add(Activation('relu'))\n",
    "model.add(Dropout(P_DROPOUT))\n",
    "model.add(Dense(N_CLASSES))\n",
    "model.add(Activation('softmax'))\n",
    "\n",
    "# model compilation\n",
    "model.summary()\n",
    "\n",
    "# model compilation\n",
    "model.compile(loss='categorical_crossentropy', optimizer=OPTIMIZER, metrics=['accuracy'])\n"
   ]
  },
  {
   "cell_type": "markdown",
   "metadata": {
    "id": "NBJJWwueMP2-"
   },
   "source": [
    "**Let's train the multi-layer perceptron network with DROPOUT**\n",
    "\n",
    "Let's now train (fit) the above dropout network with the above-defined batch size (128), and number of epochs (250)."
   ]
  },
  {
   "cell_type": "code",
   "execution_count": 14,
   "metadata": {
    "colab": {
     "base_uri": "https://localhost:8080/"
    },
    "id": "Xqa-9UHxMP3A",
    "outputId": "2298bead-2990-4b63-ff55-ed1d8c344922"
   },
   "outputs": [
    {
     "name": "stdout",
     "output_type": "stream",
     "text": [
      "Epoch 1/20\n",
      "375/375 [==============================] - 1s 2ms/step - loss: 0.6720 - accuracy: 0.7951 - val_loss: 0.2701 - val_accuracy: 0.9231\n",
      "Epoch 2/20\n",
      "375/375 [==============================] - 1s 1ms/step - loss: 0.3409 - accuracy: 0.8995 - val_loss: 0.2056 - val_accuracy: 0.9391\n",
      "Epoch 3/20\n",
      "375/375 [==============================] - 1s 1ms/step - loss: 0.2701 - accuracy: 0.9204 - val_loss: 0.1658 - val_accuracy: 0.9524\n",
      "Epoch 4/20\n",
      "375/375 [==============================] - 1s 1ms/step - loss: 0.2334 - accuracy: 0.9309 - val_loss: 0.1487 - val_accuracy: 0.9572\n",
      "Epoch 5/20\n",
      "375/375 [==============================] - 1s 2ms/step - loss: 0.2054 - accuracy: 0.9392 - val_loss: 0.1315 - val_accuracy: 0.9628\n",
      "Epoch 6/20\n",
      "375/375 [==============================] - 1s 2ms/step - loss: 0.1848 - accuracy: 0.9459 - val_loss: 0.1225 - val_accuracy: 0.9639\n",
      "Epoch 7/20\n",
      "375/375 [==============================] - 1s 2ms/step - loss: 0.1740 - accuracy: 0.9483 - val_loss: 0.1123 - val_accuracy: 0.9667\n",
      "Epoch 8/20\n",
      "375/375 [==============================] - 1s 2ms/step - loss: 0.1627 - accuracy: 0.9518 - val_loss: 0.1102 - val_accuracy: 0.9671\n",
      "Epoch 9/20\n",
      "375/375 [==============================] - 1s 2ms/step - loss: 0.1494 - accuracy: 0.9551 - val_loss: 0.1034 - val_accuracy: 0.9707\n",
      "Epoch 10/20\n",
      "375/375 [==============================] - 1s 1ms/step - loss: 0.1398 - accuracy: 0.9589 - val_loss: 0.1001 - val_accuracy: 0.9703\n",
      "Epoch 11/20\n",
      "375/375 [==============================] - 1s 1ms/step - loss: 0.1341 - accuracy: 0.9597 - val_loss: 0.0969 - val_accuracy: 0.9718\n",
      "Epoch 12/20\n",
      "375/375 [==============================] - 1s 1ms/step - loss: 0.1277 - accuracy: 0.9611 - val_loss: 0.0921 - val_accuracy: 0.9738\n",
      "Epoch 13/20\n",
      "375/375 [==============================] - 1s 1ms/step - loss: 0.1184 - accuracy: 0.9637 - val_loss: 0.0911 - val_accuracy: 0.9732\n",
      "Epoch 14/20\n",
      "375/375 [==============================] - 1s 1ms/step - loss: 0.1149 - accuracy: 0.9654 - val_loss: 0.0911 - val_accuracy: 0.9734\n",
      "Epoch 15/20\n",
      "375/375 [==============================] - 1s 2ms/step - loss: 0.1098 - accuracy: 0.9664 - val_loss: 0.0873 - val_accuracy: 0.9742\n",
      "Epoch 16/20\n",
      "375/375 [==============================] - 1s 1ms/step - loss: 0.1054 - accuracy: 0.9679 - val_loss: 0.0865 - val_accuracy: 0.9751\n",
      "Epoch 17/20\n",
      "375/375 [==============================] - 1s 2ms/step - loss: 0.1004 - accuracy: 0.9694 - val_loss: 0.0860 - val_accuracy: 0.9755\n",
      "Epoch 18/20\n",
      "375/375 [==============================] - 1s 1ms/step - loss: 0.0989 - accuracy: 0.9696 - val_loss: 0.0848 - val_accuracy: 0.9760\n",
      "Epoch 19/20\n",
      "375/375 [==============================] - 1s 1ms/step - loss: 0.0951 - accuracy: 0.9707 - val_loss: 0.0823 - val_accuracy: 0.9755\n",
      "Epoch 20/20\n",
      "375/375 [==============================] - 1s 1ms/step - loss: 0.0925 - accuracy: 0.9715 - val_loss: 0.0839 - val_accuracy: 0.9753\n"
     ]
    }
   ],
   "source": [
    "#train the network\n",
    "history = model.fit(input_X_train, output_Y_train, batch_size=BATCH_SIZE, epochs=N_EPOCH, verbose=VERBOSE, validation_split=VALIDATION_SPLIT)\n"
   ]
  },
  {
   "cell_type": "markdown",
   "metadata": {
    "id": "x-z1NP88MP3I"
   },
   "source": [
    "**Looking at the results of the trained dropout network**\n",
    "\n",
    "Let's explore the effects of adding the weight dropout on the network performance.\n",
    "\n",
    "You can see that the dropout has further improved our results."
   ]
  },
  {
   "cell_type": "code",
   "execution_count": 15,
   "metadata": {
    "colab": {
     "base_uri": "https://localhost:8080/",
     "height": 380
    },
    "id": "K8qIacDmMP3N",
    "outputId": "596dcc3a-f5d8-461c-bbb7-0dedd3d99f9b"
   },
   "outputs": [
    {
     "name": "stdout",
     "output_type": "stream",
     "text": [
      "313/313 [==============================] - 0s 713us/step - loss: 0.0811 - accuracy: 0.9739\n",
      "\n",
      "Test score: 0.08105381578207016\n",
      "Test accuracy: 0.9739000201225281\n",
      "dict_keys(['loss', 'accuracy', 'val_loss', 'val_accuracy'])\n"
     ]
    },
    {
     "data": {
      "image/png": "[encoded data removed]",
      "text/plain": [
       "<Figure size 432x288 with 1 Axes>"
      ]
     },
     "metadata": {
      "needs_background": "light"
     },
     "output_type": "display_data"
    }
   ],
   "source": [
    "#test the network\n",
    "score = model.evaluate(input_X_test, output_Y_test, verbose=VERBOSE)\n",
    "print(\"\\nTest score:\", score[0])\n",
    "print(\"Test accuracy:\", score[1])\n",
    "\n",
    "# list all data in history\n",
    "print(history.history.keys())\n",
    "\n",
    "# summarize history for accuracy\n",
    "plt.plot(history.history['accuracy'])\n",
    "plt.plot(history.history['val_accuracy'])\n",
    "plt.title('model accuracy')\n",
    "plt.ylabel('accuracy')\n",
    "plt.xlabel('epoch')\n",
    "plt.legend(['train', 'test'], loc='upper left')\n",
    "plt.show()"
   ]
  },
  {
   "cell_type": "markdown",
   "metadata": {
    "id": "8IUIcenlMP3S"
   },
   "source": [
    "Exploring Training Hyperparameters\n",
    "-------------\n",
    "\n",
    "You can explore the role of various hyperparameters to see how you can further improve the MLP model's performance on the MNIST dataset. \n",
    "\n",
    "For example, if you increase the number of epochs for the dropout network to 250, you will see that the test and train accuracy errors will converge (accuracy closer to 97% for both training and test), which means that we have achieved the best tradeoff between training and testing.\n",
    "\n",
    "You can carry out many additional simulations on hypeparameter exploration where you can try for example:\n",
    "\n",
    "- different number of epochs\n",
    "- different learning rate\n",
    "- different number of hidden nodes \n",
    "- different proportion of dropout rates \n",
    "- different optimisers in addition to SGD (e.g. RMSprop, Adam) \n",
    "- different batch size \n",
    "\n",
    "This final exercise will constitute the first neural network coursework. See Coursework specification documenty for more details.\n"
   ]
  },
  {
   "cell_type": "markdown",
   "metadata": {
    "id": "uPKj5NAdMP3T"
   },
   "source": [
    "Conclusions\n",
    "-------------\n",
    "\n",
    "With this tutorial we have practiced the training of both a Simple Perceptron, and a Multi-Layer Perceptron, with a benchmark dataset containing images of handwritten numbers.\n",
    "This helped us understand how to load the datase, visualise it, and visualise the training history and the effects of adding hidden layers and then adding weight dropout.\n",
    "\n",
    "**Copyright (c)** 2022 Angelo Cangelosi, MIT License. Code and examples adapted from Gulli & Pal (2017) Deep Learning with Keras. Punkt Publishing. With further contribution from Wenjie Huang."
   ]
  }
 ],
 "metadata": {
  "colab": {
   "collapsed_sections": [],
   "name": "DATA70132_Lab5b_Keras_MLP_MNIST.ipynb",
   "provenance": []
  },
  "kernelspec": {
   "display_name": "Python 3",
   "language": "python",
   "name": "python3"
  },
  "language_info": {
   "codemirror_mode": {
    "name": "ipython",
    "version": 3
   },
   "file_extension": ".py",
   "mimetype": "text/x-python",
   "name": "python",
   "nbconvert_exporter": "python",
   "pygments_lexer": "ipython3",
   "version": "3.8.8"
  }
 },
 "nbformat": 4,
 "nbformat_minor": 4
}
